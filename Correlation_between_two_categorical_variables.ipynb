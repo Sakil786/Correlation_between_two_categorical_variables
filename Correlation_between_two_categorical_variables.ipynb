{
 "cells": [
  {
   "cell_type": "markdown",
   "id": "6ff7039c",
   "metadata": {},
   "source": [
    "# Correlation between Categorical Features\n",
    "* In categorical features , correlation is called as association\n",
    "* So we need to find the association between two categorical features"
   ]
  },
  {
   "cell_type": "markdown",
   "id": "51baba17",
   "metadata": {},
   "source": [
    "#  Cramér’s V\n",
    "\n",
    "* It is based on a Pearson’s Chi-Square Test.\n",
    "* Similarly to correlation, the output is in the range of [0,1], where 0 means no association and 1 is full association. \n",
    "* There are no negative values, as there’s no such thing as a negative association."
   ]
  },
  {
   "cell_type": "code",
   "execution_count": 59,
   "id": "df9ce3f5",
   "metadata": {},
   "outputs": [],
   "source": [
    "import numpy as np\n",
    "import pandas as pd\n",
    "import scipy.stats as ss\n",
    "import seaborn as sns\n",
    "from scipy.stats import chi2_contingency\n",
    "import numpy as np\n",
    "import seaborn as sns\n",
    "import matplotlib.pyplot as plt\n",
    "# Pandas version: 1.3.0"
   ]
  },
  {
   "cell_type": "code",
   "execution_count": 60,
   "id": "3967b264",
   "metadata": {},
   "outputs": [],
   "source": [
    "tips_data=pd.read_csv(r\"D:\\Kaggle\\StudentsPerformance.csv\")"
   ]
  },
  {
   "cell_type": "code",
   "execution_count": 61,
   "id": "fc003d44",
   "metadata": {
    "scrolled": true
   },
   "outputs": [
    {
     "data": {
      "text/html": [
       "<div>\n",
       "<style scoped>\n",
       "    .dataframe tbody tr th:only-of-type {\n",
       "        vertical-align: middle;\n",
       "    }\n",
       "\n",
       "    .dataframe tbody tr th {\n",
       "        vertical-align: top;\n",
       "    }\n",
       "\n",
       "    .dataframe thead th {\n",
       "        text-align: right;\n",
       "    }\n",
       "</style>\n",
       "<table border=\"1\" class=\"dataframe\">\n",
       "  <thead>\n",
       "    <tr style=\"text-align: right;\">\n",
       "      <th></th>\n",
       "      <th>gender</th>\n",
       "      <th>race/ethnicity</th>\n",
       "      <th>parental level of education</th>\n",
       "      <th>lunch</th>\n",
       "      <th>test preparation course</th>\n",
       "      <th>math score</th>\n",
       "      <th>reading score</th>\n",
       "      <th>writing score</th>\n",
       "    </tr>\n",
       "  </thead>\n",
       "  <tbody>\n",
       "    <tr>\n",
       "      <th>0</th>\n",
       "      <td>female</td>\n",
       "      <td>group B</td>\n",
       "      <td>bachelor's degree</td>\n",
       "      <td>standard</td>\n",
       "      <td>none</td>\n",
       "      <td>72</td>\n",
       "      <td>72</td>\n",
       "      <td>74</td>\n",
       "    </tr>\n",
       "    <tr>\n",
       "      <th>1</th>\n",
       "      <td>female</td>\n",
       "      <td>group C</td>\n",
       "      <td>some college</td>\n",
       "      <td>standard</td>\n",
       "      <td>completed</td>\n",
       "      <td>69</td>\n",
       "      <td>90</td>\n",
       "      <td>88</td>\n",
       "    </tr>\n",
       "    <tr>\n",
       "      <th>2</th>\n",
       "      <td>female</td>\n",
       "      <td>group B</td>\n",
       "      <td>master's degree</td>\n",
       "      <td>standard</td>\n",
       "      <td>none</td>\n",
       "      <td>90</td>\n",
       "      <td>95</td>\n",
       "      <td>93</td>\n",
       "    </tr>\n",
       "    <tr>\n",
       "      <th>3</th>\n",
       "      <td>male</td>\n",
       "      <td>group A</td>\n",
       "      <td>associate's degree</td>\n",
       "      <td>free/reduced</td>\n",
       "      <td>none</td>\n",
       "      <td>47</td>\n",
       "      <td>57</td>\n",
       "      <td>44</td>\n",
       "    </tr>\n",
       "    <tr>\n",
       "      <th>4</th>\n",
       "      <td>male</td>\n",
       "      <td>group C</td>\n",
       "      <td>some college</td>\n",
       "      <td>standard</td>\n",
       "      <td>none</td>\n",
       "      <td>76</td>\n",
       "      <td>78</td>\n",
       "      <td>75</td>\n",
       "    </tr>\n",
       "  </tbody>\n",
       "</table>\n",
       "</div>"
      ],
      "text/plain": [
       "   gender race/ethnicity parental level of education         lunch  \\\n",
       "0  female        group B           bachelor's degree      standard   \n",
       "1  female        group C                some college      standard   \n",
       "2  female        group B             master's degree      standard   \n",
       "3    male        group A          associate's degree  free/reduced   \n",
       "4    male        group C                some college      standard   \n",
       "\n",
       "  test preparation course  math score  reading score  writing score  \n",
       "0                    none          72             72             74  \n",
       "1               completed          69             90             88  \n",
       "2                    none          90             95             93  \n",
       "3                    none          47             57             44  \n",
       "4                    none          76             78             75  "
      ]
     },
     "execution_count": 61,
     "metadata": {},
     "output_type": "execute_result"
    }
   ],
   "source": [
    "tips_data.head()"
   ]
  },
  {
   "cell_type": "code",
   "execution_count": 62,
   "id": "f8b2208e",
   "metadata": {
    "scrolled": true
   },
   "outputs": [
    {
     "data": {
      "text/plain": [
       "(1000, 8)"
      ]
     },
     "execution_count": 62,
     "metadata": {},
     "output_type": "execute_result"
    }
   ],
   "source": [
    "tips_data.shape"
   ]
  },
  {
   "cell_type": "code",
   "execution_count": 63,
   "id": "78cccdb3",
   "metadata": {
    "scrolled": true
   },
   "outputs": [
    {
     "data": {
      "text/plain": [
       "gender                         0\n",
       "race/ethnicity                 0\n",
       "parental level of education    0\n",
       "lunch                          0\n",
       "test preparation course        0\n",
       "math score                     0\n",
       "reading score                  0\n",
       "writing score                  0\n",
       "dtype: int64"
      ]
     },
     "execution_count": 63,
     "metadata": {},
     "output_type": "execute_result"
    }
   ],
   "source": [
    "tips_data.isnull().sum()"
   ]
  },
  {
   "cell_type": "markdown",
   "id": "96c7a5b2",
   "metadata": {},
   "source": [
    "# Filtering categorical Features"
   ]
  },
  {
   "cell_type": "code",
   "execution_count": 64,
   "id": "606575eb",
   "metadata": {
    "scrolled": true
   },
   "outputs": [],
   "source": [
    "tips_categorical=tips_data[['gender','race/ethnicity','parental level of education','lunch']]"
   ]
  },
  {
   "cell_type": "code",
   "execution_count": 65,
   "id": "cc952b71",
   "metadata": {
    "scrolled": false
   },
   "outputs": [
    {
     "data": {
      "text/html": [
       "<div>\n",
       "<style scoped>\n",
       "    .dataframe tbody tr th:only-of-type {\n",
       "        vertical-align: middle;\n",
       "    }\n",
       "\n",
       "    .dataframe tbody tr th {\n",
       "        vertical-align: top;\n",
       "    }\n",
       "\n",
       "    .dataframe thead th {\n",
       "        text-align: right;\n",
       "    }\n",
       "</style>\n",
       "<table border=\"1\" class=\"dataframe\">\n",
       "  <thead>\n",
       "    <tr style=\"text-align: right;\">\n",
       "      <th></th>\n",
       "      <th>gender</th>\n",
       "      <th>race/ethnicity</th>\n",
       "      <th>parental level of education</th>\n",
       "      <th>lunch</th>\n",
       "    </tr>\n",
       "  </thead>\n",
       "  <tbody>\n",
       "    <tr>\n",
       "      <th>0</th>\n",
       "      <td>female</td>\n",
       "      <td>group B</td>\n",
       "      <td>bachelor's degree</td>\n",
       "      <td>standard</td>\n",
       "    </tr>\n",
       "    <tr>\n",
       "      <th>1</th>\n",
       "      <td>female</td>\n",
       "      <td>group C</td>\n",
       "      <td>some college</td>\n",
       "      <td>standard</td>\n",
       "    </tr>\n",
       "    <tr>\n",
       "      <th>2</th>\n",
       "      <td>female</td>\n",
       "      <td>group B</td>\n",
       "      <td>master's degree</td>\n",
       "      <td>standard</td>\n",
       "    </tr>\n",
       "    <tr>\n",
       "      <th>3</th>\n",
       "      <td>male</td>\n",
       "      <td>group A</td>\n",
       "      <td>associate's degree</td>\n",
       "      <td>free/reduced</td>\n",
       "    </tr>\n",
       "    <tr>\n",
       "      <th>4</th>\n",
       "      <td>male</td>\n",
       "      <td>group C</td>\n",
       "      <td>some college</td>\n",
       "      <td>standard</td>\n",
       "    </tr>\n",
       "  </tbody>\n",
       "</table>\n",
       "</div>"
      ],
      "text/plain": [
       "   gender race/ethnicity parental level of education         lunch\n",
       "0  female        group B           bachelor's degree      standard\n",
       "1  female        group C                some college      standard\n",
       "2  female        group B             master's degree      standard\n",
       "3    male        group A          associate's degree  free/reduced\n",
       "4    male        group C                some college      standard"
      ]
     },
     "execution_count": 65,
     "metadata": {},
     "output_type": "execute_result"
    }
   ],
   "source": [
    "tips_categorical.head()"
   ]
  },
  {
   "cell_type": "markdown",
   "id": "028eac92",
   "metadata": {},
   "source": [
    "# Building of the Cramer's V function"
   ]
  },
  {
   "cell_type": "code",
   "execution_count": 66,
   "id": "365d8cee",
   "metadata": {},
   "outputs": [],
   "source": [
    "\n",
    "def cramers_V(var1,var2) :\n",
    "  crosstab =np.array(pd.crosstab(var1,var2, rownames=None, colnames=None)) # Cross table building\n",
    "  stat = chi2_contingency(crosstab)[0] # Keeping of the test statistic of the Chi2 test\n",
    "  obs = np.sum(crosstab) # Number of observations\n",
    "  mini = min(crosstab.shape)-1 # Take the minimum value between the columns and the rows of the cross table\n",
    "  return (stat/(obs*mini))"
   ]
  },
  {
   "cell_type": "markdown",
   "id": "0423bf5b",
   "metadata": {},
   "source": [
    "# Building of the matrix"
   ]
  },
  {
   "cell_type": "code",
   "execution_count": 67,
   "id": "b507047f",
   "metadata": {},
   "outputs": [],
   "source": [
    "rows= []\n",
    "\n",
    "for var1 in tips_categorical:\n",
    "  col = []\n",
    "  for var2 in tips_categorical :\n",
    "    cramers =cramers_V(tips_categorical[var1], tips_categorical[var2]) # Cramer's V test\n",
    "    col.append(round(cramers,2)) # Keeping of the rounded value of the Cramer's V  \n",
    "  rows.append(col)\n",
    "  \n",
    "cramers_results = np.array(rows)\n",
    "df = pd.DataFrame(cramers_results, columns = tips_categorical.columns, index =tips_categorical.columns)"
   ]
  },
  {
   "cell_type": "code",
   "execution_count": 68,
   "id": "faeab2cb",
   "metadata": {
    "scrolled": false
   },
   "outputs": [
    {
     "data": {
      "text/html": [
       "<div>\n",
       "<style scoped>\n",
       "    .dataframe tbody tr th:only-of-type {\n",
       "        vertical-align: middle;\n",
       "    }\n",
       "\n",
       "    .dataframe tbody tr th {\n",
       "        vertical-align: top;\n",
       "    }\n",
       "\n",
       "    .dataframe thead th {\n",
       "        text-align: right;\n",
       "    }\n",
       "</style>\n",
       "<table border=\"1\" class=\"dataframe\">\n",
       "  <thead>\n",
       "    <tr style=\"text-align: right;\">\n",
       "      <th></th>\n",
       "      <th>gender</th>\n",
       "      <th>race/ethnicity</th>\n",
       "      <th>parental level of education</th>\n",
       "      <th>lunch</th>\n",
       "    </tr>\n",
       "  </thead>\n",
       "  <tbody>\n",
       "    <tr>\n",
       "      <th>gender</th>\n",
       "      <td>1.00</td>\n",
       "      <td>0.01</td>\n",
       "      <td>0.00</td>\n",
       "      <td>0.0</td>\n",
       "    </tr>\n",
       "    <tr>\n",
       "      <th>race/ethnicity</th>\n",
       "      <td>0.01</td>\n",
       "      <td>1.00</td>\n",
       "      <td>0.01</td>\n",
       "      <td>0.0</td>\n",
       "    </tr>\n",
       "    <tr>\n",
       "      <th>parental level of education</th>\n",
       "      <td>0.00</td>\n",
       "      <td>0.01</td>\n",
       "      <td>1.00</td>\n",
       "      <td>0.0</td>\n",
       "    </tr>\n",
       "    <tr>\n",
       "      <th>lunch</th>\n",
       "      <td>0.00</td>\n",
       "      <td>0.00</td>\n",
       "      <td>0.00</td>\n",
       "      <td>1.0</td>\n",
       "    </tr>\n",
       "  </tbody>\n",
       "</table>\n",
       "</div>"
      ],
      "text/plain": [
       "                             gender  race/ethnicity  \\\n",
       "gender                         1.00            0.01   \n",
       "race/ethnicity                 0.01            1.00   \n",
       "parental level of education    0.00            0.01   \n",
       "lunch                          0.00            0.00   \n",
       "\n",
       "                             parental level of education  lunch  \n",
       "gender                                              0.00    0.0  \n",
       "race/ethnicity                                      0.01    0.0  \n",
       "parental level of education                         1.00    0.0  \n",
       "lunch                                               0.00    1.0  "
      ]
     },
     "execution_count": 68,
     "metadata": {},
     "output_type": "execute_result"
    }
   ],
   "source": [
    "df"
   ]
  },
  {
   "cell_type": "markdown",
   "id": "70836d8d",
   "metadata": {},
   "source": [
    "# Creating heatMap"
   ]
  },
  {
   "cell_type": "code",
   "execution_count": 69,
   "id": "e774988d",
   "metadata": {},
   "outputs": [
    {
     "data": {
      "image/png": "[encoded data removed]",
      "text/plain": [
       "<Figure size 432x288 with 2 Axes>"
      ]
     },
     "metadata": {
      "needs_background": "light"
     },
     "output_type": "display_data"
    }
   ],
   "source": [
    "# generating 2-D 10x10 matrix of random numbers\n",
    "# from 1 to 100\n",
    "data = np.random.randint(low=1,\n",
    "                         high=100,\n",
    "                         size=(10, 10))\n",
    "  \n",
    "# setting the parameter values\n",
    "annot = True\n",
    "  \n",
    "# plotting the heatmap\n",
    "hm = sns.heatmap(data=df,\n",
    "                annot=annot)\n",
    "  \n",
    "# displaying the plotted heatmap\n",
    "plt.show()"
   ]
  },
  {
   "cell_type": "code",
   "execution_count": 46,
   "id": "2a03194f",
   "metadata": {
    "scrolled": true
   },
   "outputs": [],
   "source": [
    "\n",
    "# mask = np.zeros_like(df, dtype=np.bool)\n",
    "# mask[np.triu_indices_from(mask)] = False\n",
    "\n",
    "# with sns.axes_style(\"white\"):\n",
    "#   ax = sns.heatmap(df, mask=mask,vmin=0., vmax=1, square=True)\n",
    "\n",
    "# plt.show()"
   ]
  },
  {
   "cell_type": "code",
   "execution_count": 41,
   "id": "e9cbb434",
   "metadata": {
    "scrolled": true
   },
   "outputs": [],
   "source": [
    "# tips.head()"
   ]
  },
  {
   "cell_type": "code",
   "execution_count": 23,
   "id": "ab893f91",
   "metadata": {},
   "outputs": [],
   "source": [
    "# def cramers_v(confusion_matrix):\n",
    "#     \"\"\" calculate Cramers V statistic for categorial-categorial association.\n",
    "#         uses correction from Bergsma and Wicher,\n",
    "#         Journal of the Korean Statistical Society 42 (2013): 323-328\n",
    "#     \"\"\"\n",
    "#     chi2 = ss.chi2_contingency(confusion_matrix)[0]\n",
    "#     n = confusion_matrix.sum()\n",
    "#     phi2 = chi2 / n\n",
    "#     r, k = confusion_matrix.shape\n",
    "#     phi2corr = max(0, phi2 - ((k-1)*(r-1))/(n-1))\n",
    "#     rcorr = r - ((r-1)**2)/(n-1)\n",
    "#     kcorr = k - ((k-1)**2)/(n-1)\n",
    "#     return np.sqrt(phi2corr / min((kcorr-1), (rcorr-1)))"
   ]
  },
  {
   "cell_type": "code",
   "execution_count": 24,
   "id": "18450507",
   "metadata": {},
   "outputs": [],
   "source": [
    "# confusion_matrix = pd.crosstab(tips[\"day\"], tips[\"time\"])"
   ]
  },
  {
   "cell_type": "code",
   "execution_count": 25,
   "id": "abd28921",
   "metadata": {
    "scrolled": true
   },
   "outputs": [],
   "source": [
    "# cramers_v(confusion_matrix.values)"
   ]
  },
  {
   "cell_type": "code",
   "execution_count": 26,
   "id": "cb60a8e3",
   "metadata": {},
   "outputs": [],
   "source": [
    "# confusion_matrix = pd.crosstab(tips[\"total_bill_cut\"], tips[\"time\"])\n",
    "# cramers_v(confusion_matrix.values)"
   ]
  }
 ],
 "metadata": {
  "kernelspec": {
   "display_name": "Python 3",
   "language": "python",
   "name": "python3"
  },
  "language_info": {
   "codemirror_mode": {
    "name": "ipython",
    "version": 3
   },
   "file_extension": ".py",
   "mimetype": "text/x-python",
   "name": "python",
   "nbconvert_exporter": "python",
   "pygments_lexer": "ipython3",
   "version": "3.8.8"
  }
 },
 "nbformat": 4,
 "nbformat_minor": 5
}
